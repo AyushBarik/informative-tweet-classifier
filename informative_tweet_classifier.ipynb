{
 "cells": [
  {
   "cell_type": "markdown",
   "id": "2b699fb9",
   "metadata": {},
   "source": [
    "# Overview\n",
    "This notebook classifies COVID-19-related tweets as **INFORMATIVE** or **UNINFORMATIVE** using a fine-tuned Transformer model."
   ]
  },
  {
   "cell_type": "markdown",
   "id": "e843d7ea",
   "metadata": {},
   "source": [
    "### Imports\n",
    "load all required libraries for data handling, modeling, metrics, logging, and visualization."
   ]
  },
  {
   "cell_type": "code",
   "execution_count": null,
   "id": "3033a75a",
   "metadata": {},
   "outputs": [],
   "source": [
    "# === imports ===\n",
    "import os, random, numpy as np, torch\n",
    "from collections import Counter\n",
    "\n",
    "# data\n",
    "import pandas as pd\n",
    "from datasets import load_dataset, concatenate_datasets, Dataset\n",
    "\n",
    "# tokenization & modeling\n",
    "from transformers import (\n",
    "    AutoTokenizer,\n",
    "    AutoModelForSequenceClassification,\n",
    "    TrainingArguments,\n",
    "    Trainer,\n",
    "    AutoConfig,\n",
    "    set_seed,\n",
    "    TrainerCallback,\n",
    "    EarlyStoppingCallback\n",
    ")\n",
    "\n",
    "# metrics & visualiztion\n",
    "from sklearn.metrics import confusion_matrix, classification_report, accuracy_score, f1_score\n",
    "import matplotlib.pyplot as plt\n",
    "import seaborn as sns\n",
    "\n",
    "# logging\n",
    "from torch.utils.tensorboard import SummaryWriter\n",
    "from transformers.integrations import TensorBoardCallback\n"
   ]
  },
  {
   "cell_type": "markdown",
   "id": "292c09a9",
   "metadata": {},
   "source": [
    "### Setup and Device Config\n",
    "print library versions and check CUDA availability for GPU support"
   ]
  },
  {
   "cell_type": "code",
   "execution_count": null,
   "id": "803f5ea2",
   "metadata": {},
   "outputs": [],
   "source": [
    "# === version check & device setup ===\n",
    "import transformers\n",
    "print(transformers.__version__)\n",
    "print(torch.__version__)\n",
    "print(torch.cuda.is_available())\n",
    "\n",
    "device = torch.device(\"cuda\")\n",
    "print(device)\n"
   ]
  },
  {
   "cell_type": "markdown",
   "id": "a9d961bf",
   "metadata": {},
   "source": [
    "### Load Dataset\n",
    "load training, validation, and test datasets from `.tsv` files"
   ]
  },
  {
   "cell_type": "code",
   "execution_count": null,
   "id": "22a30b77",
   "metadata": {},
   "outputs": [],
   "source": [
    "# load tsv files as huggingface datasets\n",
    "def load_tsv(path):\n",
    "    df = pd.read_csv(path, sep='\\t')\n",
    "    df['label'] = df['Label'].map({'INFORMATIVE': 1, 'UNINFORMATIVE': 0})\n",
    "    return Dataset.from_pandas(df[['Text', 'label']])\n",
    "\n",
    "train_dataset = load_tsv(\"./data/train.tsv\")\n",
    "valid_dataset = load_tsv(\"./data/valid.tsv\")\n",
    "test_dataset = load_tsv(\"./data/test.tsv\")\n",
    "\n",
    "print(Counter(train_dataset[\"label\"]))\n",
    "print(Counter(valid_dataset[\"label\"]))\n",
    "print(Counter(test_dataset[\"label\"]))\n"
   ]
  },
  {
   "cell_type": "markdown",
   "id": "174be432",
   "metadata": {},
   "source": [
    "### Tokenizer and Model\n",
    "initialize the tokenizer and the model from HuggingFace, also tokenize the datasets."
   ]
  },
  {
   "cell_type": "code",
   "execution_count": null,
   "id": "f1debbc3",
   "metadata": {},
   "outputs": [],
   "source": [
    "# === tokenizer & model ===\n",
    "checkpoint = \"albert/albert-base-v2\"\n",
    "tokenizer = AutoTokenizer.from_pretrained(checkpoint)\n",
    "model = AutoModelForSequenceClassification.from_pretrained(checkpoint, num_labels=2)\n",
    "model.to(device)\n",
    "\n",
    "# 30 million parameters limit\n",
    "print(\"Trainable params:\", sum(p.numel() for p in model.parameters() if p.requires_grad))\n",
    "\n",
    "def tokenize(batch):\n",
    "    return tokenizer(batch[\"Text\"], padding=True, truncation=True)\n",
    "\n",
    "# tokenize datasets\n",
    "train_encoded = train_dataset.map(tokenize, batched=True)\n",
    "valid_encoded = valid_dataset.map(tokenize, batched=True)\n",
    "test_encoded = test_dataset.map(tokenize, batched=True)\n",
    "\n",
    "# combine train and valid datasets - for final run after hyperparameter tuning\n",
    "full_train_encoded = concatenate_datasets([train_encoded, valid_encoded])\n"
   ]
  },
  {
   "cell_type": "markdown",
   "id": "5aea27f8",
   "metadata": {},
   "source": [
    "### Random Seed\n",
    "set a random seed for reproducibility across runs"
   ]
  },
  {
   "cell_type": "code",
   "execution_count": null,
   "id": "573af374",
   "metadata": {},
   "outputs": [],
   "source": [
    "# === set random seed (for reproducibility) ===\n",
    "SEED = 42\n",
    "np.random.seed(SEED)\n",
    "torch.manual_seed(SEED)\n",
    "if torch.cuda.is_available():\n",
    "    torch.cuda.manual_seed_all(SEED)\n"
   ]
  },
  {
   "cell_type": "markdown",
   "id": "346d304f",
   "metadata": {},
   "source": [
    "### Metrics\n",
    "metric function to compute accuracy and F1 score during evaluation"
   ]
  },
  {
   "cell_type": "code",
   "execution_count": null,
   "id": "e03eedae",
   "metadata": {},
   "outputs": [],
   "source": [
    "# metrics\n",
    "def compute_metrics(pred):\n",
    "    preds = pred.predictions.argmax(-1)\n",
    "    return {\n",
    "        \"accuracy\": accuracy_score(pred.label_ids, preds),\n",
    "        \"f1\": f1_score(pred.label_ids, preds)\n",
    "    }\n"
   ]
  },
  {
   "cell_type": "markdown",
   "id": "24ecc8a8",
   "metadata": {},
   "source": [
    "### Training Configuration\n",
    "configure training hyperparameters (batch sizes, epochs, learning rate, logging strategies, etc)"
   ]
  },
  {
   "cell_type": "code",
   "execution_count": null,
   "id": "0d9221e9",
   "metadata": {},
   "outputs": [],
   "source": [
    "# === training ! ===\n",
    "training_args = TrainingArguments(\n",
    "    output_dir=\"./results\",\n",
    "    seed=SEED,\n",
    "    report_to=[\"tensorboard\"],\n",
    "    logging_dir=\"./logs\",\n",
    "    logging_strategy=\"steps\",\n",
    "    logging_steps=100,\n",
    "    eval_strategy=\"steps\",\n",
    "    eval_steps=200,\n",
    "    save_strategy=\"steps\",\n",
    "    save_steps=200,\n",
    "    per_device_train_batch_size=32,\n",
    "    per_device_eval_batch_size=64,\n",
    "    num_train_epochs=8,\n",
    "    weight_decay=0.1,\n",
    "    learning_rate=3e-5,\n",
    "    warmup_ratio=0.1,\n",
    "    load_best_model_at_end=True,\n",
    "    metric_for_best_model=\"accuracy\",\n",
    "    fp16=True,\n",
    "    gradient_accumulation_steps=2,\n",
    "    lr_scheduler_type=\"cosine_with_restarts\",\n",
    "    max_grad_norm=1.0,\n",
    "    save_total_limit=2,\n",
    ")\n"
   ]
  },
  {
   "cell_type": "markdown",
   "id": "f93e0fe1",
   "metadata": {},
   "source": [
    "#### Model Training\n",
    "set up `Trainer`, start training, evaluate on the test set, and save the final model"
   ]
  },
  {
   "cell_type": "code",
   "execution_count": null,
   "id": "1857df81",
   "metadata": {},
   "outputs": [],
   "source": [
    "# trainer setup\n",
    "trainer = Trainer(\n",
    "    model=model,\n",
    "    args=training_args,\n",
    "    train_dataset=full_train_encoded,\n",
    "    eval_dataset=test_encoded,\n",
    "    tokenizer=tokenizer,\n",
    "    compute_metrics=compute_metrics,\n",
    "    callbacks=[EarlyStoppingCallback(early_stopping_patience=3, early_stopping_threshold=0.005)]\n",
    ")\n",
    "\n",
    "# train the model\n",
    "trainer.train()\n",
    "\n",
    "# evaluate model on test set\n",
    "eval_results = trainer.evaluate()\n",
    "print(f\"Final evaluation results: {eval_results}\")\n",
    "\n",
    "# save final model\n",
    "trainer.save_model(\"./final_model\")\n",
    "print(\"Training complete. Final model saved to './final_model'\")\n"
   ]
  },
  {
   "cell_type": "markdown",
   "id": "5bf0ba97",
   "metadata": {},
   "source": [
    "### Inference on Test Set\n",
    "generate predictions using the trained model"
   ]
  },
  {
   "cell_type": "code",
   "execution_count": null,
   "id": "e1123978",
   "metadata": {},
   "outputs": [],
   "source": [
    "# === prediction and evaluation ===\n",
    "test_df = pd.read_csv(\"./data/test.tsv\", sep=\"\\t\")\n",
    "test_df[\"label\"] = test_df[\"Label\"].map({\"UNINFORMATIVE\": 0, \"INFORMATIVE\": 1})\n",
    "test_ds = Dataset.from_pandas(test_df)\n",
    "\n",
    "# tokenize test data\n",
    "test_encoded = test_ds.map(\n",
    "    lambda b: tokenizer(b[\"Text\"], padding=\"max_length\", truncation=True, max_length=128),\n",
    "    batched=True\n",
    ")\n",
    "test_encoded.set_format(type=\"torch\", columns=[\"input_ids\", \"attention_mask\", \"label\"])\n",
    "\n",
    "# predict\n",
    "predictions = trainer.predict(test_encoded)\n",
    "preds = predictions.predictions.argmax(-1)\n",
    "labels = predictions.label_ids\n"
   ]
  },
  {
   "cell_type": "markdown",
   "id": "d224e5d2",
   "metadata": {},
   "source": [
    "### Evaluation Metrics\n",
    "confusion matrix, accuracy, F1 score, and classification report"
   ]
  },
  {
   "cell_type": "code",
   "execution_count": null,
   "id": "170c3878",
   "metadata": {},
   "outputs": [],
   "source": [
    "# print metrics\n",
    "cm = confusion_matrix(labels, preds)\n",
    "print(\"Confusion Matrix:\")\n",
    "print(cm)\n",
    "\n",
    "acc = accuracy_score(labels, preds)\n",
    "f1 = f1_score(labels, preds)\n",
    "\n",
    "print(f\"Test Accuracy: {acc:.4f}\")\n",
    "print(f\"Test F1 Score: {f1:.4f}\")\n",
    "\n",
    "# classification report\n",
    "report = classification_report(labels, preds, target_names=[\"UNINFORMATIVE\", \"INFORMATIVE\"])\n",
    "print(\"\\nClassification Report:\")\n",
    "print(report)\n"
   ]
  },
  {
   "cell_type": "code",
   "execution_count": null,
   "id": "7c2fb227",
   "metadata": {},
   "outputs": [],
   "source": [
    "# === plot confusion matrix === \n",
    "plt.figure(figsize=(6, 4))\n",
    "sns.heatmap(cm, annot=True, fmt='d', cmap='Blues', xticklabels=[\"UNINFORMATIVE\", \"INFORMATIVE\"], yticklabels=[\"UNINFORMATIVE\", \"INFORMATIVE\"])\n",
    "plt.xlabel(\"Predicted Label\")\n",
    "plt.ylabel(\"True Label\")\n",
    "plt.title(\"Confusion Matrix\")\n",
    "plt.tight_layout()\n",
    "plt.show()\n",
    "\n",
    "# === generate prediction.csv ===\n",
    "label_map = {1: \"INFORMATIVE\", 0: \"UNINFORMATIVE\"}\n",
    "submission = pd.DataFrame({\n",
    "    \"Id\": test_df[\"Id\"],\n",
    "    \"Label\": [label_map[p] for p in preds]\n",
    "})\n",
    "submission.to_csv(\"prediction.csv\", index=False)\n"
   ]
  }
 ],
 "metadata": {
  "language_info": {
   "name": "python"
  }
 },
 "nbformat": 4,
 "nbformat_minor": 5
}
